{
 "cells": [
  {
   "cell_type": "code",
   "execution_count": 4,
   "id": "26944871",
   "metadata": {},
   "outputs": [
    {
     "name": "stdout",
     "output_type": "stream",
     "text": [
      "The autoreload extension is already loaded. To reload it, use:\n",
      "  %reload_ext autoreload\n"
     ]
    }
   ],
   "source": [
    "%load_ext autoreload\n",
    "%autoreload 2\n",
    "\n",
    "import re, time, json,os\n",
    "from app.utils import Helper\n",
    "from datetime import datetime"
   ]
  },
  {
   "cell_type": "code",
   "execution_count": 5,
   "id": "67e146cc",
   "metadata": {},
   "outputs": [
    {
     "name": "stdout",
     "output_type": "stream",
     "text": [
      "<class 'str'>\n"
     ]
    }
   ],
   "source": [
    "df = Helper.read_file(\"nse.txt\")\n",
    "config = Helper.load_json5(r\"config\\params.json5\")\n",
    "\n",
    "print(type(df))"
   ]
  },
  {
   "cell_type": "code",
   "execution_count": null,
   "id": "2ecdb146",
   "metadata": {},
   "outputs": [],
   "source": [
    "NSE_SYMBOL_REGEX = \"\\\\|\\\\|([0-9A-Z$\\\\.]+.NS)\"\n",
    "NSE_PORTS = config[\"NSE_PORTS\"]\n",
    "SYMBOL_SET = set()\n",
    "\n",
    "TODAY = datetime.now().strftime(\"%Y%m%d\")\n",
    "\n",
    "\n",
    "SAVE_PATH = f\"{TODAY}\"\n",
    "Helper.create_dir(SAVE_PATH)\n",
    "\n",
    "def write_file(filepath: str, content: str):\n",
    "    with open(filepath, 'a', encoding=\"utf-8\") as f:\n",
    "        f.write(content + '\\n')\n",
    "\n",
    "def get_nse_symbol(ticker):\n",
    "    symbol_list = re.findall(NSE_SYMBOL_REGEX,ticker, re.IGNORECASE)\n",
    "    if symbol_list:\n",
    "        symbol = symbol_list[0]\n",
    "        SYMBOL_SET.add(symbol)\n",
    "        return symbol\n",
    "    return None\n",
    "\n",
    "\n",
    "def get_nse_port(ticker):\n",
    "    data_set = []\n",
    "    print(ticker)\n",
    "    \n",
    "    for port_name, port_val in NSE_PORTS.items():\n",
    "        port_regex = f\"\\\\b{port_val}\\\\=(\\\\d+\\\\.?\\\\d*)~\"\n",
    "        if port_name == \"NSE_DATETIME\":\n",
    "            port_regex = fr\"{port_val}=(\\d{{4}}-\\d{{2}}-\\d{{2}})\\s(\\d{{2}}:\\d{{2}}:\\d{{2}})~\"\n",
    "            \n",
    "        if content:=re.findall(port_regex,ticker,re.IGNORECASE):\n",
    "            print(f\"{port_name}({port_val}): {content}\")\n",
    "            captured_data = content[0]\n",
    "            captured_data = \",\".join(captured_data) if isinstance(captured_data,tuple) else captured_data\n",
    "        else:\n",
    "            captured_data = \"N/A,N/A\" if port_name == \"NSE_DATETIME\" else \"N/A\"\n",
    "        data_set.append(captured_data)\n",
    "            \n",
    "    return data_set\n",
    "        \n",
    "for ticker in df.split(\"\\n\"):\n",
    "    \n",
    "    symbol = get_nse_symbol(ticker)\n",
    "    print(\"==================\")\n",
    "    if not symbol:\n",
    "        continue\n",
    "    print(symbol)\n",
    "    data = get_nse_port(ticker)\n",
    "    data_csv = \",\".join(data)\n",
    "    print(data_csv)\n",
    "    \n",
    "    symbol_data_path = os.path.join(SAVE_PATH,f\"{symbol}.csv\")\n",
    "     \n",
    "    if not os.path.exists(symbol_data_path):\n",
    "        write_file(symbol_data_path, \"Date,Time,LTP,BuyPrice,BuyQty,SellPrice,SellQty,LTQ\")\n",
    "\n",
    "    write_file(symbol_data_path, data_csv)\n",
    "        \n",
    "    \n",
    "    \n"
   ]
  },
  {
   "cell_type": "code",
   "execution_count": null,
   "id": "8027ebef",
   "metadata": {},
   "outputs": [],
   "source": [
    " \n",
    "# Ticker\tDate\tTime\tLTP\tBuyPrice\tBuyQty\tSellPrice\tSellQty\tLTQ\tOpenInterest\n",
    "# RIIL.NSE\t19-05-2025\t09:15:03\t928.6\t0\t0\t0\t0\t0\t0\n",
    "# RIIL.NSE\t19-05-2025\t09:15:03\t929.7\t926.2\t14\t929.7\t7\t1001\t0\n",
    "# RIIL.NSE\t19-05-2025\t09:15:03\t927.95\t926.2\t14\t929.7\t7\t0\t0\n",
    "# RIIL.NSE\t19-05-2025\t09:15:15\t933.65\t930.3\t10\t933.65\t75\t2079\t0\n",
    "# RIIL.NSE\t19-05-2025\t09:15:15\t933.65\t930.3\t10\t933.65\t75\t0\t0\n",
    "# RIIL.NSE\t19-05-2025\t09:15:25\t934\t931.45\t10\t934.45\t5\t322\t0\n",
    "# RIIL.NSE\t19-05-2025\t09:15:25\t934\t931.45\t10\t934.45\t5\t0\t0\n",
    "# RIIL.NSE\t19-05-2025\t09:15:34\t931.35\t932.2\t10\t933.95\t1\t1\t0\n",
    "# RIIL.NSE\t19-05-2025\t09:15:42\t932.4\t931.75\t10\t933.4\t3\t33\t0\n",
    "# RIIL.NSE\t19-05-2025\t09:15:51\t931.95\t931.65\t14\t933.5\t5\t275\t0"
   ]
  }
 ],
 "metadata": {
  "kernelspec": {
   "display_name": ".venv",
   "language": "python",
   "name": "python3"
  },
  "language_info": {
   "codemirror_mode": {
    "name": "ipython",
    "version": 3
   },
   "file_extension": ".py",
   "mimetype": "text/x-python",
   "name": "python",
   "nbconvert_exporter": "python",
   "pygments_lexer": "ipython3",
   "version": "3.13.5"
  }
 },
 "nbformat": 4,
 "nbformat_minor": 5
}
